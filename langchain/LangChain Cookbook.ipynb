{
 "cells": [
  {
   "cell_type": "code",
   "execution_count": 1,
   "metadata": {},
   "outputs": [],
   "source": [
    "from secret_key import openai_api_key"
   ]
  },
  {
   "cell_type": "code",
   "execution_count": 2,
   "metadata": {},
   "outputs": [],
   "source": [
    "from langchain_openai import OpenAI\n",
    "\n",
    "llm = OpenAI(model_name=\"gpt-3.5-turbo-instruct\", api_key=openai_api_key)"
   ]
  },
  {
   "cell_type": "code",
   "execution_count": 3,
   "metadata": {},
   "outputs": [
    {
     "data": {
      "text/plain": [
       "\"\\n\\nThe average distance between the moon and Earth is approximately 384,400 kilometers. However, the distance can vary between 363,300 kilometers (perigee) and 405,500 kilometers (apogee) due to the moon's elliptical orbit.\""
      ]
     },
     "execution_count": 3,
     "metadata": {},
     "output_type": "execute_result"
    }
   ],
   "source": [
    "llm.invoke(\"How far is the moon away from earth in km ?\")"
   ]
  },
  {
   "cell_type": "code",
   "execution_count": 27,
   "metadata": {},
   "outputs": [
    {
     "data": {
      "text/plain": [
       "'\\n\\nThe current President of Japan is Yoshihide Suga who is 72 years old (as of 2021).'"
      ]
     },
     "execution_count": 27,
     "metadata": {},
     "output_type": "execute_result"
    }
   ],
   "source": [
    "llm.invoke(\"Who is the current President of Japan and what is his age ?\")"
   ]
  },
  {
   "cell_type": "code",
   "execution_count": 5,
   "metadata": {},
   "outputs": [
    {
     "data": {
      "text/plain": [
       "'\\n\\nThere is no specific information available about the hobbies of Milton, as it can refer to various individuals with the same name. However, some possible hobbies that people named Milton may have could include reading, writing, playing sports, gardening, cooking, painting, photography, hiking, or playing musical instruments.'"
      ]
     },
     "execution_count": 5,
     "metadata": {},
     "output_type": "execute_result"
    }
   ],
   "source": [
    "llm.invoke(\"What are the hobbies of Milton ?\")"
   ]
  },
  {
   "cell_type": "code",
   "execution_count": 6,
   "metadata": {},
   "outputs": [],
   "source": [
    "from langchain_openai import ChatOpenAI\n",
    "\n",
    "chat = ChatOpenAI(model_name=\"gpt-3.5-turbo-0125\", api_key=openai_api_key)"
   ]
  },
  {
   "cell_type": "code",
   "execution_count": 70,
   "metadata": {},
   "outputs": [],
   "source": [
    "from langchain_core.messages import HumanMessage, SystemMessage\n",
    "\n",
    "messages = [\n",
    "    SystemMessage(content=\"You are an expert in Python programming language\"),\n",
    "    HumanMessage(content=\"Tell me about scikit learn in 2 sentences\"),\n",
    "]"
   ]
  },
  {
   "cell_type": "code",
   "execution_count": 71,
   "metadata": {},
   "outputs": [
    {
     "data": {
      "text/plain": [
       "AIMessage(content='Scikit-learn is a popular machine learning library in Python that provides efficient tools for data analysis and modeling. It includes various algorithms for classification, regression, clustering, dimensionality reduction, and more, making it a versatile choice for machine learning tasks.', response_metadata={'token_usage': {'completion_tokens': 50, 'prompt_tokens': 29, 'total_tokens': 79}, 'model_name': 'gpt-3.5-turbo-0125', 'system_fingerprint': None, 'finish_reason': 'stop', 'logprobs': None}, id='run-acb15958-7570-4d3d-8e2f-a5c0a49e5527-0')"
      ]
     },
     "execution_count": 71,
     "metadata": {},
     "output_type": "execute_result"
    }
   ],
   "source": [
    "chat.invoke(messages)"
   ]
  },
  {
   "cell_type": "code",
   "execution_count": 7,
   "metadata": {},
   "outputs": [],
   "source": [
    "from langchain import PromptTemplate\n",
    "template = \"I love {food_item}.  Give me a short overview of the item in 1 sentence ?\""
   ]
  },
  {
   "cell_type": "code",
   "execution_count": 8,
   "metadata": {},
   "outputs": [],
   "source": [
    "prompt = PromptTemplate(input_variables=[\"food_item\"], template=template)\n",
    "final_prompt = prompt.format(food_item='Biryani')"
   ]
  },
  {
   "cell_type": "code",
   "execution_count": 9,
   "metadata": {},
   "outputs": [
    {
     "data": {
      "text/plain": [
       "'\\n\\nBiryani is a fragrant and flavorful Indian rice dish typically made with spiced meat or vegetables and basmati rice, cooked together in layers for a delicious and satisfying meal.'"
      ]
     },
     "execution_count": 9,
     "metadata": {},
     "output_type": "execute_result"
    }
   ],
   "source": [
    "llm.invoke(final_prompt)"
   ]
  },
  {
   "cell_type": "code",
   "execution_count": 10,
   "metadata": {},
   "outputs": [],
   "source": [
    "from langchain.chains import LLMChain, SimpleSequentialChain\n",
    "template = \"What is the capital of {country} in one word\"\n",
    "prompt_template = PromptTemplate(input_variables=[\"country\"], template=template)\n",
    "\n",
    "country_chain = LLMChain(llm=llm, prompt=prompt_template)"
   ]
  },
  {
   "cell_type": "code",
   "execution_count": 11,
   "metadata": {},
   "outputs": [],
   "source": [
    "template = \"Provide a sentence about the {city}\"\n",
    "prompt_template = PromptTemplate(input_variables=[\"city\"], template=template)\n",
    "\n",
    "city_chain = LLMChain(llm=llm, prompt=prompt_template)"
   ]
  },
  {
   "cell_type": "code",
   "execution_count": 12,
   "metadata": {},
   "outputs": [
    {
     "name": "stdout",
     "output_type": "stream",
     "text": [
      "\n",
      "\n",
      "\u001b[1m> Entering new SimpleSequentialChain chain...\u001b[0m\n",
      "\u001b[36;1m\u001b[1;3m\n",
      "\n",
      "Delhi\u001b[0m\n",
      "\u001b[33;1m\u001b[1;3m is the capital city of India, known for its bustling markets, historic monuments, and diverse culture.\u001b[0m\n",
      "\n",
      "\u001b[1m> Finished chain.\u001b[0m\n"
     ]
    },
    {
     "data": {
      "text/plain": [
       "{'input': 'India',\n",
       " 'output': ' is the capital city of India, known for its bustling markets, historic monuments, and diverse culture.'}"
      ]
     },
     "execution_count": 12,
     "metadata": {},
     "output_type": "execute_result"
    }
   ],
   "source": [
    "final_chain = SimpleSequentialChain(chains=[country_chain, city_chain], verbose=True)\n",
    "final_chain.invoke(\"India\")"
   ]
  },
  {
   "cell_type": "code",
   "execution_count": 13,
   "metadata": {},
   "outputs": [],
   "source": [
    "from langchain.embeddings import OpenAIEmbeddings\n",
    "\n",
    "embeddings_model = OpenAIEmbeddings(openai_api_key=openai_api_key)"
   ]
  },
  {
   "cell_type": "code",
   "execution_count": 14,
   "metadata": {},
   "outputs": [],
   "source": [
    "query = \"This is my first attempt at converting a sentence to array of numbers\""
   ]
  },
  {
   "cell_type": "code",
   "execution_count": 15,
   "metadata": {},
   "outputs": [
    {
     "data": {
      "text/plain": [
       "[-0.011082770901458278,\n",
       " 0.012362078392377806,\n",
       " 0.0009073163692367308,\n",
       " -0.010152365707513862,\n",
       " 0.0002659522790238687]"
      ]
     },
     "execution_count": 15,
     "metadata": {},
     "output_type": "execute_result"
    }
   ],
   "source": [
    "embedded_query = embeddings_model.embed_query(query)\n",
    "embedded_query[:5]"
   ]
  },
  {
   "cell_type": "code",
   "execution_count": 16,
   "metadata": {},
   "outputs": [
    {
     "name": "stdout",
     "output_type": "stream",
     "text": [
      "Embedded query length: 1536\n"
     ]
    }
   ],
   "source": [
    "print (f\"Embedded query length: {len(embedded_query)}\")"
   ]
  },
  {
   "cell_type": "code",
   "execution_count": 17,
   "metadata": {},
   "outputs": [],
   "source": [
    "from langchain.document_loaders import TextLoader\n",
    "my_personal_data_document = TextLoader('personaldata.txt').load()"
   ]
  },
  {
   "cell_type": "code",
   "execution_count": 18,
   "metadata": {},
   "outputs": [],
   "source": [
    "from langchain_text_splitters import RecursiveCharacterTextSplitter\n",
    "text_splitter = RecursiveCharacterTextSplitter(chunk_size=150, chunk_overlap=20)"
   ]
  },
  {
   "cell_type": "code",
   "execution_count": 19,
   "metadata": {},
   "outputs": [
    {
     "name": "stdout",
     "output_type": "stream",
     "text": [
      "Split document length: 32\n"
     ]
    }
   ],
   "source": [
    "my_personal_data_split_documents = text_splitter.split_documents(my_personal_data_document)\n",
    "print (f\"Split document length: {len(my_personal_data_split_documents)}\")"
   ]
  },
  {
   "cell_type": "code",
   "execution_count": 20,
   "metadata": {},
   "outputs": [
    {
     "name": "stdout",
     "output_type": "stream",
     "text": [
      "Split 0, size: page_content='Name: Milton Chandradas\\nAge: 50\\nOccupation: Software Industry Professional\\nCountry: USA\\n\\nHobbies:' metadata={'source': 'personaldata.txt'}\n",
      "Split 1, size: page_content='Photography: Milton enjoys capturing moments in nature and urban landscapes. He often goes on photography expeditions during weekends.' metadata={'source': 'personaldata.txt'}\n",
      "Split 2, size: page_content='Cooking: Milton finds solace in experimenting with new recipes in his kitchen. He loves hosting dinner parties for friends and family.' metadata={'source': 'personaldata.txt'}\n",
      "Split 3, size: page_content='Reading: Milton is an avid reader, particularly interested in science fiction and historical non-fiction. He dedicates some time each day to dive' metadata={'source': 'personaldata.txt'}\n",
      "Split 4, size: page_content='each day to dive into a good book.' metadata={'source': 'personaldata.txt'}\n",
      "Split 5, size: page_content='Work:' metadata={'source': 'personaldata.txt'}\n",
      "Split 6, size: page_content='Milton holds a senior position in a prominent software company, where he leads a team of developers in creating innovative solutions for clients' metadata={'source': 'personaldata.txt'}\n",
      "Split 7, size: page_content='for clients across various industries. With decades of experience in the field, Milton is known for his strategic thinking, problem-solving skills,' metadata={'source': 'personaldata.txt'}\n",
      "Split 8, size: page_content='skills, and ability to mentor and motivate his team.' metadata={'source': 'personaldata.txt'}\n",
      "Split 9, size: page_content='Past Travel:' metadata={'source': 'personaldata.txt'}\n",
      "Split 10, size: page_content='Milton has traveled extensively in the past, exploring destinations across Europe, Asia, and the Americas. Some of his memorable trips include' metadata={'source': 'personaldata.txt'}\n",
      "Split 11, size: page_content='trips include backpacking through the picturesque landscapes of New Zealand, exploring the ancient ruins of Machu Picchu in Peru, and indulging in' metadata={'source': 'personaldata.txt'}\n",
      "Split 12, size: page_content='and indulging in the rich cultural heritage of Japan.' metadata={'source': 'personaldata.txt'}\n",
      "Split 13, size: page_content='Future Travel Plans:' metadata={'source': 'personaldata.txt'}\n",
      "Split 14, size: page_content='Despite his busy schedule, Milton is eagerly planning his next adventure. He dreams of embarking on a safari in Africa to witness the majestic' metadata={'source': 'personaldata.txt'}\n",
      "Split 15, size: page_content='the majestic wildlife in their natural habitat. Additionally, he hopes to visit the serene backwaters of Kerala, India, to experience its tranquil' metadata={'source': 'personaldata.txt'}\n",
      "Split 16, size: page_content='its tranquil beauty.' metadata={'source': 'personaldata.txt'}\n",
      "Split 17, size: page_content='Health:' metadata={'source': 'personaldata.txt'}\n",
      "Split 18, size: page_content='Milton prioritizes his health and well-being by maintaining a balanced lifestyle. He follows a regular exercise routine, which includes jogging in' metadata={'source': 'personaldata.txt'}\n",
      "Split 19, size: page_content='includes jogging in the mornings and practicing yoga in the evenings. Milton also emphasizes healthy eating habits, opting for nutritious meals and' metadata={'source': 'personaldata.txt'}\n",
      "Split 20, size: page_content='meals and occasional indulgences.' metadata={'source': 'personaldata.txt'}\n",
      "Split 21, size: page_content='Strengths:' metadata={'source': 'personaldata.txt'}\n",
      "Split 22, size: page_content='Leadership: Milton possesses strong leadership skills, inspiring his team to achieve their goals and exceed expectations.' metadata={'source': 'personaldata.txt'}\n",
      "Split 23, size: page_content='Problem-Solving: With his analytical mindset, Milton excels in identifying and solving complex problems efficiently.' metadata={'source': 'personaldata.txt'}\n",
      "Split 24, size: page_content=\"Creativity: Milton's creative approach to both work and leisure activities enables him to think outside the box and come up with innovative\" metadata={'source': 'personaldata.txt'}\n",
      "Split 25, size: page_content='up with innovative solutions.' metadata={'source': 'personaldata.txt'}\n",
      "Split 26, size: page_content='Weaknesses:' metadata={'source': 'personaldata.txt'}\n",
      "Split 27, size: page_content='Workaholic Tendencies: Milton sometimes struggles to strike a balance between work and personal life, occasionally prioritizing work over leisure' metadata={'source': 'personaldata.txt'}\n",
      "Split 28, size: page_content='work over leisure activities.' metadata={'source': 'personaldata.txt'}\n",
      "Split 29, size: page_content=\"Perfectionism: While striving for excellence, Milton's perfectionist tendencies can sometimes lead to undue stress and over-analysis.\" metadata={'source': 'personaldata.txt'}\n",
      "Split 30, size: page_content='Difficulty Delegating: Due to his hands-on approach, Milton finds it challenging to delegate tasks effectively, often taking on more than he can' metadata={'source': 'personaldata.txt'}\n",
      "Split 31, size: page_content='on more than he can handle.' metadata={'source': 'personaldata.txt'}\n"
     ]
    }
   ],
   "source": [
    "for index, _ in enumerate(my_personal_data_split_documents):\n",
    "    print(f\"Split {index}, size: {my_personal_data_split_documents[index]}\")"
   ]
  },
  {
   "cell_type": "code",
   "execution_count": 21,
   "metadata": {},
   "outputs": [],
   "source": [
    "from langchain.vectorstores import FAISS\n",
    "db = FAISS.from_documents(my_personal_data_split_documents, embeddings_model)"
   ]
  },
  {
   "cell_type": "code",
   "execution_count": 22,
   "metadata": {},
   "outputs": [],
   "source": [
    "query = \"What are the hobbies of Milton\"\n",
    "docs = db.similarity_search(query, k=4)"
   ]
  },
  {
   "cell_type": "code",
   "execution_count": 24,
   "metadata": {},
   "outputs": [
    {
     "name": "stdout",
     "output_type": "stream",
     "text": [
      "Photography: Milton enjoys capturing moments in nature and urban landscapes. He often goes on photography expeditions during weekends.\n"
     ]
    }
   ],
   "source": [
    "print(docs[1].page_content)"
   ]
  },
  {
   "cell_type": "code",
   "execution_count": 25,
   "metadata": {},
   "outputs": [],
   "source": [
    "context = \"\\n\\n\".join([doc.page_content for doc in docs])\n",
    "prompt = f\"Context:\\n{context}\\n\\nQuestion: {query}\""
   ]
  },
  {
   "cell_type": "code",
   "execution_count": 26,
   "metadata": {},
   "outputs": [
    {
     "data": {
      "text/plain": [
       "' Chandradas?\\n\\nAnswer: Milton Chandradas enjoys cooking, photography, and occasionally struggling with work-life balance. '"
      ]
     },
     "execution_count": 26,
     "metadata": {},
     "output_type": "execute_result"
    }
   ],
   "source": [
    "llm.invoke(prompt)\n"
   ]
  },
  {
   "cell_type": "code",
   "execution_count": 28,
   "metadata": {},
   "outputs": [],
   "source": [
    "from langchain.agents import load_tools\n",
    "from langchain.agents import initialize_agent\n",
    "\n",
    "from secret_key import serpapi_api_key\n"
   ]
  },
  {
   "cell_type": "code",
   "execution_count": 29,
   "metadata": {},
   "outputs": [],
   "source": [
    "toolkit = load_tools([\"serpapi\", \"llm-math\"], llm=llm, serpapi_api_key=serpapi_api_key)"
   ]
  },
  {
   "cell_type": "code",
   "execution_count": 30,
   "metadata": {},
   "outputs": [],
   "source": [
    "agent = initialize_agent(toolkit, llm, agent=\"zero-shot-react-description\", verbose=True, return_intermediate_steps=True)"
   ]
  },
  {
   "cell_type": "code",
   "execution_count": 31,
   "metadata": {},
   "outputs": [
    {
     "name": "stdout",
     "output_type": "stream",
     "text": [
      "\n",
      "\n",
      "\u001b[1m> Entering new AgentExecutor chain...\u001b[0m\n",
      "\u001b[32;1m\u001b[1;3m I should use a search engine to find this information.\n",
      "Action: Search\n",
      "Action Input: \"current President of Japan\"\u001b[0m\n",
      "Observation: \u001b[36;1m\u001b[1;3m{'type': 'organic_result', 'title': 'Fumio Kishida', 'source': 'Wikipedia'}\u001b[0m\n",
      "Thought:\u001b[32;1m\u001b[1;3m Now I know the name of the current President of Japan.\n",
      "Action: Search\n",
      "Action Input: \"age of Fumio Kishida\"\u001b[0m\n",
      "Observation: \u001b[36;1m\u001b[1;3m66 years\u001b[0m\n",
      "Thought:\u001b[32;1m\u001b[1;3m I now know the final answer.\n",
      "Final Answer: Fumio Kishida is 66 years old.\u001b[0m\n",
      "\n",
      "\u001b[1m> Finished chain.\u001b[0m\n"
     ]
    }
   ],
   "source": [
    "response = agent({\"input\":\"Who is the current President of Japan and what is his age ?\"})"
   ]
  },
  {
   "cell_type": "code",
   "execution_count": 33,
   "metadata": {},
   "outputs": [
    {
     "name": "stdout",
     "output_type": "stream",
     "text": [
      "\n",
      "\n",
      "\u001b[1m> Entering new AgentExecutor chain...\u001b[0m\n",
      "\u001b[32;1m\u001b[1;3m I should use a search engine to find information about the age of the current President of Japan and Shahrukh Khan.\n",
      "Action: Search\n",
      "Action Input: \"age difference between current President of Japan and Shahrukh Khan\"\u001b[0m\n",
      "Observation: \u001b[36;1m\u001b[1;3m[\"Sharukh Khan's age difference between his romantic interests over the last 10 years ; Deepika Padukone, 21 years ; Kajol, 10 years ; Mahira, 20 ...\", '\"Zero,\" released in 2018, featured Shah Rukh Khan alongside Anushka Sharma, with a significant age difference of 22 years. This wasn\\'t their ...', 'Shah Nawaz Khan (general) ; (1914-01-24)24 January 1914. Matore, Punjab, British India (present-day Punjab, Pakistan) · 9 December 1983(1983-12-09) (aged 69)', 'MUMBAI — Shah Rukh Khan has many titles. The 48-year-old Bollywood superstar is known as King Khan, King of Bollywood and Bollywood Badshah ...', 'National Creator Award Winner Travel Creator 2024 ✈️ Cultural Brand Ambassador, India Founder @curly.tales @curlytalesme kamiya@curlytales.com · India is ...', 'Who is a better leader, Narendra Modi or Imran Khan? You need to compare Imran Khan with someone else ...', 'Set against the backdrop of Insurgency in Assam, the film stars Shah Rukh Khan and Manisha Koirala, while Preity Zinta makes her film debut in a supporting role ...', \"An Indian Muslim man with Asperger's syndrome takes a challenge to speak to the President of the United States seriously and embarks on a cross-country ...\", '... What is the total value of the acquisi- tion ... Khan ( C ) Ajay Devgan ( D ) Shahrukh Khan 7887. Beijing is the capital of ( A ) Japan ... age of 13 with a valid ...']\u001b[0m\n",
      "Thought:\u001b[32;1m\u001b[1;3m I should look for reliable sources to determine the age of the current President of Japan and Shahrukh Khan.\n",
      "Action: Search\n",
      "Action Input: \"age of current President of Japan\" and \"age of Shahrukh Khan\"\u001b[0m\n",
      "Observation: \u001b[36;1m\u001b[1;3m['Shahrukh Khan. (1965-11-02) 2 November 1965 (age 58). New Delhi, India · Hansraj College (BA) · Actor; film producer; television personality; businessman · 1988– ...', 'Shahrukh Khan. (1965-11-02) 2 November 1965 (age 58). New Delhi, India · Hansraj College · Actor; film producer; television personality; businessman · 1988 - ...', 'Personal Information ; Full Name, Shahrukh Khan ; Date of Birth, May 27, 1995 ; Nationality, Indian ; Height, 6 ft 6 inches ; Current Team(s). Punjab Kings.', 'If you ask about Lalit Modi or Nirav Modi, Shahrukh is more powerful than them as these two modis are fugitives and required by Indian law ...', 'Shah Rukh Khan, fondly known as SRK, is an iconic figure in Bollywood, renowned for his stellar performances in over 80 films.', 'Also called: SRK ; Born: November 2, 1965, Delhi, India (age 58) ; Date: 1922 - present ; Areas Of Involvement: public education ; Notable Alumni: ...', 'Because Shahrukh Khan is a Self-Made Man Shahrukh Khan had no godfather in the Film Industry, still he is one the most successful Indian actors today.', 'Prime Minister Narendra Modi has yet again topped the list of most popular leaders in the world. US Prez Joe Biden ranked 6th in the list ...', '17M Followers, 880 Following, 2690 Posts - Karan Johar (@karanjohar) on Instagram: \"A father and then a filmmaker\"', 'Fast Facts. Full Name: Shah Rukh Khan. Nickname: King Khan, SRK. Birth date: November 2, 1965. Age: 58. Zodiac Sign: Scorpio. Height: 5\\' 6\". Relationship Status ...']\u001b[0m\n",
      "Thought:\u001b[32;1m\u001b[1;3m I now have reliable information about the ages of the current President of Japan and Shahrukh Khan.\n",
      "Final Answer: According to my search, the current President of Japan is 69 years old and Shahrukh Khan is 58 years old, making an age difference of 11 years. \u001b[0m\n",
      "\n",
      "\u001b[1m> Finished chain.\u001b[0m\n"
     ]
    }
   ],
   "source": [
    "response = agent({\"input\":\"What is the age difference between current President of Japan and Shahrukh Khan ?\"})"
   ]
  }
 ],
 "metadata": {
  "kernelspec": {
   "display_name": "Python 3",
   "language": "python",
   "name": "python3"
  },
  "language_info": {
   "codemirror_mode": {
    "name": "ipython",
    "version": 3
   },
   "file_extension": ".py",
   "mimetype": "text/x-python",
   "name": "python",
   "nbconvert_exporter": "python",
   "pygments_lexer": "ipython3",
   "version": "3.12.1"
  }
 },
 "nbformat": 4,
 "nbformat_minor": 2
}
